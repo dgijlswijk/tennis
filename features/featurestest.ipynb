{
 "cells": [
  {
   "cell_type": "code",
   "execution_count": 1,
   "id": "46ab1aba",
   "metadata": {},
   "outputs": [],
   "source": [
    "import pandas as pd"
   ]
  },
  {
   "cell_type": "code",
   "execution_count": 18,
   "id": "b4f1577c",
   "metadata": {},
   "outputs": [],
   "source": [
    "def define_label(result: str) -> str:\n",
    "        # Define the label\n",
    "        if isinstance(result, str) and ':' in result:\n",
    "            parts = result.split(':')\n",
    "            if int(parts[0]) > int(parts[1]):\n",
    "                return 'home'\n",
    "            else:\n",
    "                return 'away'\n",
    "        else:\n",
    "            raise ValueError(f\"Invalid result format: {result}\")"
   ]
  },
  {
   "cell_type": "code",
   "execution_count": 19,
   "id": "1e125848",
   "metadata": {},
   "outputs": [],
   "source": [
    "df = pd.read_csv('../datacombiner/data/combined.csv')\n",
    "df['result'] = df['result'].apply(define_label) # train label\n"
   ]
  },
  {
   "cell_type": "code",
   "execution_count": 12,
   "id": "028e4c6d",
   "metadata": {},
   "outputs": [],
   "source": [
    "df['result'] = df['result'].apply(define_label) # train label\n"
   ]
  },
  {
   "cell_type": "code",
   "execution_count": 24,
   "id": "1fb33db9",
   "metadata": {},
   "outputs": [],
   "source": [
    "df_elo = df[['home_id', 'name_home', 'result', 'seriesStartDate']].copy()\n",
    "df_elo['home_win'] = df_elo['result'].apply(lambda x: 1 if x == 'home' else 0)"
   ]
  },
  {
   "cell_type": "code",
   "execution_count": 25,
   "id": "64d4742e",
   "metadata": {},
   "outputs": [],
   "source": [
    "df_elo['home_elo'] = df_elo.groupby('home_id')['home_win'].transform(lambda x: x.rolling(window=10, min_periods=1).sum())\n"
   ]
  },
  {
   "cell_type": "code",
   "execution_count": 32,
   "id": "43e3cfd0",
   "metadata": {},
   "outputs": [],
   "source": [
    "df_home = df_elo[df_elo['home_id'] != 0].copy()\n",
    "df_home['home_win'] = df_home['result'].apply(lambda x: 1 if x == 'home' else -1)\n",
    "df_home['home_elo'] = df_home.sort_values('seriesStartDate').groupby('home_id')['home_win'].transform(lambda x: x.rolling(window=10, min_periods=1).sum())"
   ]
  },
  {
   "cell_type": "code",
   "execution_count": 33,
   "id": "c42f72c6",
   "metadata": {},
   "outputs": [
    {
     "data": {
      "text/html": [
       "<div>\n",
       "<style scoped>\n",
       "    .dataframe tbody tr th:only-of-type {\n",
       "        vertical-align: middle;\n",
       "    }\n",
       "\n",
       "    .dataframe tbody tr th {\n",
       "        vertical-align: top;\n",
       "    }\n",
       "\n",
       "    .dataframe thead th {\n",
       "        text-align: right;\n",
       "    }\n",
       "</style>\n",
       "<table border=\"1\" class=\"dataframe\">\n",
       "  <thead>\n",
       "    <tr style=\"text-align: right;\">\n",
       "      <th></th>\n",
       "      <th>home_id</th>\n",
       "      <th>name_home</th>\n",
       "      <th>result</th>\n",
       "      <th>seriesStartDate</th>\n",
       "      <th>home_win</th>\n",
       "      <th>home_elo</th>\n",
       "    </tr>\n",
       "  </thead>\n",
       "  <tbody>\n",
       "    <tr>\n",
       "      <th>5885</th>\n",
       "      <td>14882</td>\n",
       "      <td>Novak Djokovic</td>\n",
       "      <td>home</td>\n",
       "      <td>2009-01-19 03:45:00</td>\n",
       "      <td>1</td>\n",
       "      <td>1.0</td>\n",
       "    </tr>\n",
       "    <tr>\n",
       "      <th>5925</th>\n",
       "      <td>14882</td>\n",
       "      <td>Novak Djokovic</td>\n",
       "      <td>home</td>\n",
       "      <td>2009-01-21 02:00:00</td>\n",
       "      <td>1</td>\n",
       "      <td>2.0</td>\n",
       "    </tr>\n",
       "    <tr>\n",
       "      <th>5945</th>\n",
       "      <td>14882</td>\n",
       "      <td>Novak Djokovic</td>\n",
       "      <td>home</td>\n",
       "      <td>2009-01-23 01:30:00</td>\n",
       "      <td>1</td>\n",
       "      <td>3.0</td>\n",
       "    </tr>\n",
       "    <tr>\n",
       "      <th>5954</th>\n",
       "      <td>14882</td>\n",
       "      <td>Novak Djokovic</td>\n",
       "      <td>home</td>\n",
       "      <td>2009-01-25 12:00:00</td>\n",
       "      <td>1</td>\n",
       "      <td>4.0</td>\n",
       "    </tr>\n",
       "    <tr>\n",
       "      <th>8526</th>\n",
       "      <td>14882</td>\n",
       "      <td>Novak Djokovic</td>\n",
       "      <td>home</td>\n",
       "      <td>2009-05-28 17:45:00</td>\n",
       "      <td>1</td>\n",
       "      <td>5.0</td>\n",
       "    </tr>\n",
       "    <tr>\n",
       "      <th>8545</th>\n",
       "      <td>14882</td>\n",
       "      <td>Novak Djokovic</td>\n",
       "      <td>away</td>\n",
       "      <td>2009-05-30 14:15:00</td>\n",
       "      <td>-1</td>\n",
       "      <td>4.0</td>\n",
       "    </tr>\n",
       "    <tr>\n",
       "      <th>861</th>\n",
       "      <td>14882</td>\n",
       "      <td>Novak Djokovic</td>\n",
       "      <td>home</td>\n",
       "      <td>2010-01-19 09:20:00</td>\n",
       "      <td>1</td>\n",
       "      <td>5.0</td>\n",
       "    </tr>\n",
       "    <tr>\n",
       "      <th>917</th>\n",
       "      <td>14882</td>\n",
       "      <td>Novak Djokovic</td>\n",
       "      <td>home</td>\n",
       "      <td>2010-01-21 00:00:00</td>\n",
       "      <td>1</td>\n",
       "      <td>6.0</td>\n",
       "    </tr>\n",
       "    <tr>\n",
       "      <th>943</th>\n",
       "      <td>14882</td>\n",
       "      <td>Novak Djokovic</td>\n",
       "      <td>home</td>\n",
       "      <td>2010-01-23 03:45:00</td>\n",
       "      <td>1</td>\n",
       "      <td>7.0</td>\n",
       "    </tr>\n",
       "    <tr>\n",
       "      <th>956</th>\n",
       "      <td>14882</td>\n",
       "      <td>Novak Djokovic</td>\n",
       "      <td>home</td>\n",
       "      <td>2010-01-25 03:10:00</td>\n",
       "      <td>1</td>\n",
       "      <td>8.0</td>\n",
       "    </tr>\n",
       "  </tbody>\n",
       "</table>\n",
       "</div>"
      ],
      "text/plain": [
       "      home_id       name_home result      seriesStartDate  home_win  home_elo\n",
       "5885    14882  Novak Djokovic   home  2009-01-19 03:45:00         1       1.0\n",
       "5925    14882  Novak Djokovic   home  2009-01-21 02:00:00         1       2.0\n",
       "5945    14882  Novak Djokovic   home  2009-01-23 01:30:00         1       3.0\n",
       "5954    14882  Novak Djokovic   home  2009-01-25 12:00:00         1       4.0\n",
       "8526    14882  Novak Djokovic   home  2009-05-28 17:45:00         1       5.0\n",
       "8545    14882  Novak Djokovic   away  2009-05-30 14:15:00        -1       4.0\n",
       "861     14882  Novak Djokovic   home  2010-01-19 09:20:00         1       5.0\n",
       "917     14882  Novak Djokovic   home  2010-01-21 00:00:00         1       6.0\n",
       "943     14882  Novak Djokovic   home  2010-01-23 03:45:00         1       7.0\n",
       "956     14882  Novak Djokovic   home  2010-01-25 03:10:00         1       8.0"
      ]
     },
     "execution_count": 33,
     "metadata": {},
     "output_type": "execute_result"
    }
   ],
   "source": [
    "df_home[df_home['name_home'] == 'Novak Djokovic'].sort_values('seriesStartDate').head(10)"
   ]
  },
  {
   "cell_type": "code",
   "execution_count": null,
   "id": "c5d53af5",
   "metadata": {},
   "outputs": [],
   "source": []
  }
 ],
 "metadata": {
  "kernelspec": {
   "display_name": "venv",
   "language": "python",
   "name": "python3"
  },
  "language_info": {
   "codemirror_mode": {
    "name": "ipython",
    "version": 3
   },
   "file_extension": ".py",
   "mimetype": "text/x-python",
   "name": "python",
   "nbconvert_exporter": "python",
   "pygments_lexer": "ipython3",
   "version": "3.11.9"
  }
 },
 "nbformat": 4,
 "nbformat_minor": 5
}
